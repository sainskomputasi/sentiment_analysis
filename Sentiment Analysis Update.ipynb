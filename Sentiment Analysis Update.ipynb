{
 "cells": [
  {
   "cell_type": "code",
   "execution_count": 73,
   "metadata": {},
   "outputs": [
    {
     "data": {
      "text/html": [
       "<div>\n",
       "<style scoped>\n",
       "    .dataframe tbody tr th:only-of-type {\n",
       "        vertical-align: middle;\n",
       "    }\n",
       "\n",
       "    .dataframe tbody tr th {\n",
       "        vertical-align: top;\n",
       "    }\n",
       "\n",
       "    .dataframe thead th {\n",
       "        text-align: right;\n",
       "    }\n",
       "</style>\n",
       "<table border=\"1\" class=\"dataframe\">\n",
       "  <thead>\n",
       "    <tr style=\"text-align: right;\">\n",
       "      <th></th>\n",
       "      <th>text</th>\n",
       "      <th>translate</th>\n",
       "      <th>label1</th>\n",
       "      <th>label2</th>\n",
       "      <th>average</th>\n",
       "    </tr>\n",
       "    <tr>\n",
       "      <th>no</th>\n",
       "      <th></th>\n",
       "      <th></th>\n",
       "      <th></th>\n",
       "      <th></th>\n",
       "      <th></th>\n",
       "    </tr>\n",
       "  </thead>\n",
       "  <tbody>\n",
       "    <tr>\n",
       "      <th>1</th>\n",
       "      <td>padahal ppkm sudah putus pada tanggal harus su...</td>\n",
       "      <td>even though PPKM has been broken on the date i...</td>\n",
       "      <td>0</td>\n",
       "      <td>0</td>\n",
       "      <td>0</td>\n",
       "    </tr>\n",
       "    <tr>\n",
       "      <th>2</th>\n",
       "      <td>since ppkm yg bikin mood ancur bikin frustrate...</td>\n",
       "      <td>since it was PPKM that ruined the mood and mad...</td>\n",
       "      <td>0</td>\n",
       "      <td>0</td>\n",
       "      <td>0</td>\n",
       "    </tr>\n",
       "    <tr>\n",
       "      <th>3</th>\n",
       "      <td>ppkm belum hilang sudah ancam prediksi gelomba...</td>\n",
       "      <td>PPKM hasn't disappeared, it's already threaten...</td>\n",
       "      <td>0</td>\n",
       "      <td>0</td>\n",
       "      <td>0</td>\n",
       "    </tr>\n",
       "    <tr>\n",
       "      <th>4</th>\n",
       "      <td>paksa karna ppkm</td>\n",
       "      <td>forced because of ppkm</td>\n",
       "      <td>0</td>\n",
       "      <td>0</td>\n",
       "      <td>0</td>\n",
       "    </tr>\n",
       "    <tr>\n",
       "      <th>5</th>\n",
       "      <td>wali kota malang bukti langgar vonis denda juta</td>\n",
       "      <td>the mayor of Malang is proof of violating the ...</td>\n",
       "      <td>0</td>\n",
       "      <td>0</td>\n",
       "      <td>0</td>\n",
       "    </tr>\n",
       "    <tr>\n",
       "      <th>...</th>\n",
       "      <td>...</td>\n",
       "      <td>...</td>\n",
       "      <td>...</td>\n",
       "      <td>...</td>\n",
       "      <td>...</td>\n",
       "    </tr>\n",
       "    <tr>\n",
       "      <th>356</th>\n",
       "      <td>ppkm lindung masyarakat dari kena virus korona</td>\n",
       "      <td>PPKM protects the public from getting infected...</td>\n",
       "      <td>2</td>\n",
       "      <td>0</td>\n",
       "      <td>1</td>\n",
       "    </tr>\n",
       "    <tr>\n",
       "      <th>357</th>\n",
       "      <td>wakil ketua umum bidang koperasi dan umkm kadi...</td>\n",
       "      <td>Kadin Deputy General Chairperson for Cooperati...</td>\n",
       "      <td>2</td>\n",
       "      <td>0</td>\n",
       "      <td>1</td>\n",
       "    </tr>\n",
       "    <tr>\n",
       "      <th>358</th>\n",
       "      <td>ubah atur ppkm level pasar dan mal boleh buka ...</td>\n",
       "      <td>change the PPkm at market and mall levels, you...</td>\n",
       "      <td>2</td>\n",
       "      <td>0</td>\n",
       "      <td>1</td>\n",
       "    </tr>\n",
       "    <tr>\n",
       "      <th>359</th>\n",
       "      <td>ppkm bisa jadi kurang cara signifikan kasus bu...</td>\n",
       "      <td>PPKM can be less significant in cases of bully...</td>\n",
       "      <td>2</td>\n",
       "      <td>0</td>\n",
       "      <td>1</td>\n",
       "    </tr>\n",
       "    <tr>\n",
       "      <th>360</th>\n",
       "      <td>wakil ketua umum bidang koperasi dan umkm kadi...</td>\n",
       "      <td>Kadin Deputy General Chairperson for Cooperati...</td>\n",
       "      <td>2</td>\n",
       "      <td>0</td>\n",
       "      <td>1</td>\n",
       "    </tr>\n",
       "  </tbody>\n",
       "</table>\n",
       "<p>360 rows × 5 columns</p>\n",
       "</div>"
      ],
      "text/plain": [
       "                                                  text  \\\n",
       "no                                                       \n",
       "1    padahal ppkm sudah putus pada tanggal harus su...   \n",
       "2    since ppkm yg bikin mood ancur bikin frustrate...   \n",
       "3    ppkm belum hilang sudah ancam prediksi gelomba...   \n",
       "4                                     paksa karna ppkm   \n",
       "5      wali kota malang bukti langgar vonis denda juta   \n",
       "..                                                 ...   \n",
       "356     ppkm lindung masyarakat dari kena virus korona   \n",
       "357  wakil ketua umum bidang koperasi dan umkm kadi...   \n",
       "358  ubah atur ppkm level pasar dan mal boleh buka ...   \n",
       "359  ppkm bisa jadi kurang cara signifikan kasus bu...   \n",
       "360  wakil ketua umum bidang koperasi dan umkm kadi...   \n",
       "\n",
       "                                             translate  label1  label2  \\\n",
       "no                                                                       \n",
       "1    even though PPKM has been broken on the date i...       0       0   \n",
       "2    since it was PPKM that ruined the mood and mad...       0       0   \n",
       "3    PPKM hasn't disappeared, it's already threaten...       0       0   \n",
       "4                               forced because of ppkm       0       0   \n",
       "5    the mayor of Malang is proof of violating the ...       0       0   \n",
       "..                                                 ...     ...     ...   \n",
       "356  PPKM protects the public from getting infected...       2       0   \n",
       "357  Kadin Deputy General Chairperson for Cooperati...       2       0   \n",
       "358  change the PPkm at market and mall levels, you...       2       0   \n",
       "359  PPKM can be less significant in cases of bully...       2       0   \n",
       "360  Kadin Deputy General Chairperson for Cooperati...       2       0   \n",
       "\n",
       "     average  \n",
       "no            \n",
       "1          0  \n",
       "2          0  \n",
       "3          0  \n",
       "4          0  \n",
       "5          0  \n",
       "..       ...  \n",
       "356        1  \n",
       "357        1  \n",
       "358        1  \n",
       "359        1  \n",
       "360        1  \n",
       "\n",
       "[360 rows x 5 columns]"
      ]
     },
     "execution_count": 73,
     "metadata": {},
     "output_type": "execute_result"
    }
   ],
   "source": [
    "import pandas as pd\n",
    "df = pd.read_csv(\"Data01.csv\", index_col=\"no\")\n",
    "df"
   ]
  },
  {
   "cell_type": "code",
   "execution_count": 74,
   "metadata": {
    "scrolled": false
   },
   "outputs": [
    {
     "data": {
      "text/html": [
       "<div>\n",
       "<style scoped>\n",
       "    .dataframe tbody tr th:only-of-type {\n",
       "        vertical-align: middle;\n",
       "    }\n",
       "\n",
       "    .dataframe tbody tr th {\n",
       "        vertical-align: top;\n",
       "    }\n",
       "\n",
       "    .dataframe thead th {\n",
       "        text-align: right;\n",
       "    }\n",
       "</style>\n",
       "<table border=\"1\" class=\"dataframe\">\n",
       "  <thead>\n",
       "    <tr style=\"text-align: right;\">\n",
       "      <th></th>\n",
       "      <th>text</th>\n",
       "      <th>translate</th>\n",
       "      <th>label1</th>\n",
       "      <th>label2</th>\n",
       "      <th>average</th>\n",
       "    </tr>\n",
       "    <tr>\n",
       "      <th>no</th>\n",
       "      <th></th>\n",
       "      <th></th>\n",
       "      <th></th>\n",
       "      <th></th>\n",
       "      <th></th>\n",
       "    </tr>\n",
       "  </thead>\n",
       "  <tbody>\n",
       "    <tr>\n",
       "      <th>1</th>\n",
       "      <td>padahal ppkm sudah putus pada tanggal harus su...</td>\n",
       "      <td>even though PPKM has been broken on the date i...</td>\n",
       "      <td>0</td>\n",
       "      <td>0</td>\n",
       "      <td>0</td>\n",
       "    </tr>\n",
       "    <tr>\n",
       "      <th>2</th>\n",
       "      <td>since ppkm yg bikin mood ancur bikin frustrate...</td>\n",
       "      <td>since it was PPKM that ruined the mood and mad...</td>\n",
       "      <td>0</td>\n",
       "      <td>0</td>\n",
       "      <td>0</td>\n",
       "    </tr>\n",
       "    <tr>\n",
       "      <th>3</th>\n",
       "      <td>ppkm belum hilang sudah ancam prediksi gelomba...</td>\n",
       "      <td>PPKM hasn't disappeared, it's already threaten...</td>\n",
       "      <td>0</td>\n",
       "      <td>0</td>\n",
       "      <td>0</td>\n",
       "    </tr>\n",
       "    <tr>\n",
       "      <th>4</th>\n",
       "      <td>paksa karna ppkm</td>\n",
       "      <td>forced because of ppkm</td>\n",
       "      <td>0</td>\n",
       "      <td>0</td>\n",
       "      <td>0</td>\n",
       "    </tr>\n",
       "    <tr>\n",
       "      <th>5</th>\n",
       "      <td>wali kota malang bukti langgar vonis denda juta</td>\n",
       "      <td>the mayor of Malang is proof of violating the ...</td>\n",
       "      <td>0</td>\n",
       "      <td>0</td>\n",
       "      <td>0</td>\n",
       "    </tr>\n",
       "    <tr>\n",
       "      <th>...</th>\n",
       "      <td>...</td>\n",
       "      <td>...</td>\n",
       "      <td>...</td>\n",
       "      <td>...</td>\n",
       "      <td>...</td>\n",
       "    </tr>\n",
       "    <tr>\n",
       "      <th>356</th>\n",
       "      <td>ppkm lindung masyarakat dari kena virus korona</td>\n",
       "      <td>PPKM protects the public from getting infected...</td>\n",
       "      <td>2</td>\n",
       "      <td>0</td>\n",
       "      <td>1</td>\n",
       "    </tr>\n",
       "    <tr>\n",
       "      <th>357</th>\n",
       "      <td>wakil ketua umum bidang koperasi dan umkm kadi...</td>\n",
       "      <td>Kadin Deputy General Chairperson for Cooperati...</td>\n",
       "      <td>2</td>\n",
       "      <td>0</td>\n",
       "      <td>1</td>\n",
       "    </tr>\n",
       "    <tr>\n",
       "      <th>358</th>\n",
       "      <td>ubah atur ppkm level pasar dan mal boleh buka ...</td>\n",
       "      <td>change the PPkm at market and mall levels, you...</td>\n",
       "      <td>2</td>\n",
       "      <td>0</td>\n",
       "      <td>1</td>\n",
       "    </tr>\n",
       "    <tr>\n",
       "      <th>359</th>\n",
       "      <td>ppkm bisa jadi kurang cara signifikan kasus bu...</td>\n",
       "      <td>PPKM can be less significant in cases of bully...</td>\n",
       "      <td>2</td>\n",
       "      <td>0</td>\n",
       "      <td>1</td>\n",
       "    </tr>\n",
       "    <tr>\n",
       "      <th>360</th>\n",
       "      <td>wakil ketua umum bidang koperasi dan umkm kadi...</td>\n",
       "      <td>Kadin Deputy General Chairperson for Cooperati...</td>\n",
       "      <td>2</td>\n",
       "      <td>0</td>\n",
       "      <td>1</td>\n",
       "    </tr>\n",
       "  </tbody>\n",
       "</table>\n",
       "<p>360 rows × 5 columns</p>\n",
       "</div>"
      ],
      "text/plain": [
       "                                                  text  \\\n",
       "no                                                       \n",
       "1    padahal ppkm sudah putus pada tanggal harus su...   \n",
       "2    since ppkm yg bikin mood ancur bikin frustrate...   \n",
       "3    ppkm belum hilang sudah ancam prediksi gelomba...   \n",
       "4                                     paksa karna ppkm   \n",
       "5      wali kota malang bukti langgar vonis denda juta   \n",
       "..                                                 ...   \n",
       "356     ppkm lindung masyarakat dari kena virus korona   \n",
       "357  wakil ketua umum bidang koperasi dan umkm kadi...   \n",
       "358  ubah atur ppkm level pasar dan mal boleh buka ...   \n",
       "359  ppkm bisa jadi kurang cara signifikan kasus bu...   \n",
       "360  wakil ketua umum bidang koperasi dan umkm kadi...   \n",
       "\n",
       "                                             translate  label1  label2  \\\n",
       "no                                                                       \n",
       "1    even though PPKM has been broken on the date i...       0       0   \n",
       "2    since it was PPKM that ruined the mood and mad...       0       0   \n",
       "3    PPKM hasn't disappeared, it's already threaten...       0       0   \n",
       "4                               forced because of ppkm       0       0   \n",
       "5    the mayor of Malang is proof of violating the ...       0       0   \n",
       "..                                                 ...     ...     ...   \n",
       "356  PPKM protects the public from getting infected...       2       0   \n",
       "357  Kadin Deputy General Chairperson for Cooperati...       2       0   \n",
       "358  change the PPkm at market and mall levels, you...       2       0   \n",
       "359  PPKM can be less significant in cases of bully...       2       0   \n",
       "360  Kadin Deputy General Chairperson for Cooperati...       2       0   \n",
       "\n",
       "     average  \n",
       "no            \n",
       "1          0  \n",
       "2          0  \n",
       "3          0  \n",
       "4          0  \n",
       "5          0  \n",
       "..       ...  \n",
       "356        1  \n",
       "357        1  \n",
       "358        1  \n",
       "359        1  \n",
       "360        1  \n",
       "\n",
       "[360 rows x 5 columns]"
      ]
     },
     "execution_count": 74,
     "metadata": {},
     "output_type": "execute_result"
    }
   ],
   "source": [
    "from Sastrawi.Stemmer.StemmerFactory import StemmerFactory\n",
    "factory = StemmerFactory()\n",
    "stemmer = factory.create_stemmer()\n",
    "\n",
    "# Remove user mention\n",
    "def func(string):\n",
    "\n",
    "    strlist = string.split()\n",
    "    strlistnew = []\n",
    "    for i in strlist:\n",
    "        if i[0] == '@' or 'http' or '#' in i:\n",
    "            pass\n",
    "        if i.isalpha():\n",
    "            strlistnew.append(i)  \n",
    "    new = ' '.join(strlistnew)   \n",
    "    stringNew   = stemmer.stem(new)    \n",
    "    return stringNew\n",
    "\n",
    "df['text'] = df['text'].apply(func)\n",
    "df['text'] = df['text'].str.lower()\n",
    "df"
   ]
  },
  {
   "cell_type": "code",
   "execution_count": 75,
   "metadata": {},
   "outputs": [
    {
     "data": {
      "text/html": [
       "<div>\n",
       "<style scoped>\n",
       "    .dataframe tbody tr th:only-of-type {\n",
       "        vertical-align: middle;\n",
       "    }\n",
       "\n",
       "    .dataframe tbody tr th {\n",
       "        vertical-align: top;\n",
       "    }\n",
       "\n",
       "    .dataframe thead th {\n",
       "        text-align: right;\n",
       "    }\n",
       "</style>\n",
       "<table border=\"1\" class=\"dataframe\">\n",
       "  <thead>\n",
       "    <tr style=\"text-align: right;\">\n",
       "      <th></th>\n",
       "      <th>text</th>\n",
       "      <th>translate</th>\n",
       "      <th>label1</th>\n",
       "      <th>label2</th>\n",
       "      <th>average</th>\n",
       "    </tr>\n",
       "    <tr>\n",
       "      <th>no</th>\n",
       "      <th></th>\n",
       "      <th></th>\n",
       "      <th></th>\n",
       "      <th></th>\n",
       "      <th></th>\n",
       "    </tr>\n",
       "  </thead>\n",
       "  <tbody>\n",
       "    <tr>\n",
       "      <th>1</th>\n",
       "      <td>padahal ppkm sudah putus pada tanggal harus su...</td>\n",
       "      <td>even though PPKM has been broken on the date i...</td>\n",
       "      <td>0</td>\n",
       "      <td>0</td>\n",
       "      <td>0</td>\n",
       "    </tr>\n",
       "    <tr>\n",
       "      <th>2</th>\n",
       "      <td>since ppkm yg bikin mood ancur bikin frustrate...</td>\n",
       "      <td>since it was PPKM that ruined the mood and mad...</td>\n",
       "      <td>0</td>\n",
       "      <td>0</td>\n",
       "      <td>0</td>\n",
       "    </tr>\n",
       "    <tr>\n",
       "      <th>3</th>\n",
       "      <td>ppkm belum hilang sudah ancam prediksi gelomba...</td>\n",
       "      <td>PPKM hasn't disappeared, it's already threaten...</td>\n",
       "      <td>0</td>\n",
       "      <td>0</td>\n",
       "      <td>0</td>\n",
       "    </tr>\n",
       "    <tr>\n",
       "      <th>4</th>\n",
       "      <td>paksa karna ppkm</td>\n",
       "      <td>forced because of ppkm</td>\n",
       "      <td>0</td>\n",
       "      <td>0</td>\n",
       "      <td>0</td>\n",
       "    </tr>\n",
       "    <tr>\n",
       "      <th>5</th>\n",
       "      <td>wali kota malang bukti langgar vonis denda juta</td>\n",
       "      <td>the mayor of Malang is proof of violating the ...</td>\n",
       "      <td>0</td>\n",
       "      <td>0</td>\n",
       "      <td>0</td>\n",
       "    </tr>\n",
       "    <tr>\n",
       "      <th>...</th>\n",
       "      <td>...</td>\n",
       "      <td>...</td>\n",
       "      <td>...</td>\n",
       "      <td>...</td>\n",
       "      <td>...</td>\n",
       "    </tr>\n",
       "    <tr>\n",
       "      <th>356</th>\n",
       "      <td>ppkm lindung masyarakat dari kena virus korona</td>\n",
       "      <td>PPKM protects the public from getting infected...</td>\n",
       "      <td>2</td>\n",
       "      <td>0</td>\n",
       "      <td>1</td>\n",
       "    </tr>\n",
       "    <tr>\n",
       "      <th>357</th>\n",
       "      <td>wakil ketua umum bidang koperasi dan umkm kadi...</td>\n",
       "      <td>Kadin Deputy General Chairperson for Cooperati...</td>\n",
       "      <td>2</td>\n",
       "      <td>0</td>\n",
       "      <td>1</td>\n",
       "    </tr>\n",
       "    <tr>\n",
       "      <th>358</th>\n",
       "      <td>ubah atur ppkm level pasar dan mal boleh buka ...</td>\n",
       "      <td>change the PPkm at market and mall levels, you...</td>\n",
       "      <td>2</td>\n",
       "      <td>0</td>\n",
       "      <td>1</td>\n",
       "    </tr>\n",
       "    <tr>\n",
       "      <th>359</th>\n",
       "      <td>ppkm bisa jadi kurang cara signifikan kasus bu...</td>\n",
       "      <td>PPKM can be less significant in cases of bully...</td>\n",
       "      <td>2</td>\n",
       "      <td>0</td>\n",
       "      <td>1</td>\n",
       "    </tr>\n",
       "    <tr>\n",
       "      <th>360</th>\n",
       "      <td>wakil ketua umum bidang koperasi dan umkm kadi...</td>\n",
       "      <td>Kadin Deputy General Chairperson for Cooperati...</td>\n",
       "      <td>2</td>\n",
       "      <td>0</td>\n",
       "      <td>1</td>\n",
       "    </tr>\n",
       "  </tbody>\n",
       "</table>\n",
       "<p>360 rows × 5 columns</p>\n",
       "</div>"
      ],
      "text/plain": [
       "                                                  text  \\\n",
       "no                                                       \n",
       "1    padahal ppkm sudah putus pada tanggal harus su...   \n",
       "2    since ppkm yg bikin mood ancur bikin frustrate...   \n",
       "3    ppkm belum hilang sudah ancam prediksi gelomba...   \n",
       "4                                     paksa karna ppkm   \n",
       "5      wali kota malang bukti langgar vonis denda juta   \n",
       "..                                                 ...   \n",
       "356     ppkm lindung masyarakat dari kena virus korona   \n",
       "357  wakil ketua umum bidang koperasi dan umkm kadi...   \n",
       "358  ubah atur ppkm level pasar dan mal boleh buka ...   \n",
       "359  ppkm bisa jadi kurang cara signifikan kasus bu...   \n",
       "360  wakil ketua umum bidang koperasi dan umkm kadi...   \n",
       "\n",
       "                                             translate  label1  label2  \\\n",
       "no                                                                       \n",
       "1    even though PPKM has been broken on the date i...       0       0   \n",
       "2    since it was PPKM that ruined the mood and mad...       0       0   \n",
       "3    PPKM hasn't disappeared, it's already threaten...       0       0   \n",
       "4                               forced because of ppkm       0       0   \n",
       "5    the mayor of Malang is proof of violating the ...       0       0   \n",
       "..                                                 ...     ...     ...   \n",
       "356  PPKM protects the public from getting infected...       2       0   \n",
       "357  Kadin Deputy General Chairperson for Cooperati...       2       0   \n",
       "358  change the PPkm at market and mall levels, you...       2       0   \n",
       "359  PPKM can be less significant in cases of bully...       2       0   \n",
       "360  Kadin Deputy General Chairperson for Cooperati...       2       0   \n",
       "\n",
       "     average  \n",
       "no            \n",
       "1          0  \n",
       "2          0  \n",
       "3          0  \n",
       "4          0  \n",
       "5          0  \n",
       "..       ...  \n",
       "356        1  \n",
       "357        1  \n",
       "358        1  \n",
       "359        1  \n",
       "360        1  \n",
       "\n",
       "[360 rows x 5 columns]"
      ]
     },
     "execution_count": 75,
     "metadata": {},
     "output_type": "execute_result"
    }
   ],
   "source": [
    "from textblob import TextBlob\n",
    "\n",
    "def func2(string):\n",
    "    \n",
    "    kata = TextBlob(string)\n",
    "    hasil = kata.translate(from_lang='id', to='en')\n",
    "    \n",
    "    return str(hasil)\n",
    "\n",
    "df['translate'] = df['text'].apply(func2)\n",
    "df"
   ]
  },
  {
   "cell_type": "code",
   "execution_count": 76,
   "metadata": {},
   "outputs": [
    {
     "data": {
      "text/html": [
       "<div>\n",
       "<style scoped>\n",
       "    .dataframe tbody tr th:only-of-type {\n",
       "        vertical-align: middle;\n",
       "    }\n",
       "\n",
       "    .dataframe tbody tr th {\n",
       "        vertical-align: top;\n",
       "    }\n",
       "\n",
       "    .dataframe thead th {\n",
       "        text-align: right;\n",
       "    }\n",
       "</style>\n",
       "<table border=\"1\" class=\"dataframe\">\n",
       "  <thead>\n",
       "    <tr style=\"text-align: right;\">\n",
       "      <th></th>\n",
       "      <th>text</th>\n",
       "      <th>translate</th>\n",
       "      <th>average</th>\n",
       "      <th>vaderAnalysis</th>\n",
       "    </tr>\n",
       "    <tr>\n",
       "      <th>no</th>\n",
       "      <th></th>\n",
       "      <th></th>\n",
       "      <th></th>\n",
       "      <th></th>\n",
       "    </tr>\n",
       "  </thead>\n",
       "  <tbody>\n",
       "    <tr>\n",
       "      <th>1</th>\n",
       "      <td>padahal ppkm sudah putus pada tanggal harus su...</td>\n",
       "      <td>even though PPKM has been broken on the date i...</td>\n",
       "      <td>0</td>\n",
       "      <td>0</td>\n",
       "    </tr>\n",
       "    <tr>\n",
       "      <th>2</th>\n",
       "      <td>since ppkm yg bikin mood ancur bikin frustrate...</td>\n",
       "      <td>since it was PPKM that ruined the mood and mad...</td>\n",
       "      <td>0</td>\n",
       "      <td>0</td>\n",
       "    </tr>\n",
       "    <tr>\n",
       "      <th>3</th>\n",
       "      <td>ppkm belum hilang sudah ancam prediksi gelomba...</td>\n",
       "      <td>PPKM hasn't disappeared, it's already threaten...</td>\n",
       "      <td>0</td>\n",
       "      <td>0</td>\n",
       "    </tr>\n",
       "    <tr>\n",
       "      <th>4</th>\n",
       "      <td>paksa karna ppkm</td>\n",
       "      <td>forced because of ppkm</td>\n",
       "      <td>0</td>\n",
       "      <td>0</td>\n",
       "    </tr>\n",
       "    <tr>\n",
       "      <th>5</th>\n",
       "      <td>wali kota malang bukti langgar vonis denda juta</td>\n",
       "      <td>the mayor of Malang is proof of violating the ...</td>\n",
       "      <td>0</td>\n",
       "      <td>0</td>\n",
       "    </tr>\n",
       "    <tr>\n",
       "      <th>...</th>\n",
       "      <td>...</td>\n",
       "      <td>...</td>\n",
       "      <td>...</td>\n",
       "      <td>...</td>\n",
       "    </tr>\n",
       "    <tr>\n",
       "      <th>356</th>\n",
       "      <td>ppkm lindung masyarakat dari kena virus korona</td>\n",
       "      <td>PPKM protects the public from getting infected...</td>\n",
       "      <td>1</td>\n",
       "      <td>0</td>\n",
       "    </tr>\n",
       "    <tr>\n",
       "      <th>357</th>\n",
       "      <td>wakil ketua umum bidang koperasi dan umkm kadi...</td>\n",
       "      <td>Kadin Deputy General Chairperson for Cooperati...</td>\n",
       "      <td>1</td>\n",
       "      <td>0</td>\n",
       "    </tr>\n",
       "    <tr>\n",
       "      <th>358</th>\n",
       "      <td>ubah atur ppkm level pasar dan mal boleh buka ...</td>\n",
       "      <td>change the PPkm at market and mall levels, you...</td>\n",
       "      <td>1</td>\n",
       "      <td>0</td>\n",
       "    </tr>\n",
       "    <tr>\n",
       "      <th>359</th>\n",
       "      <td>ppkm bisa jadi kurang cara signifikan kasus bu...</td>\n",
       "      <td>PPKM can be less significant in cases of bully...</td>\n",
       "      <td>1</td>\n",
       "      <td>0</td>\n",
       "    </tr>\n",
       "    <tr>\n",
       "      <th>360</th>\n",
       "      <td>wakil ketua umum bidang koperasi dan umkm kadi...</td>\n",
       "      <td>Kadin Deputy General Chairperson for Cooperati...</td>\n",
       "      <td>1</td>\n",
       "      <td>0</td>\n",
       "    </tr>\n",
       "  </tbody>\n",
       "</table>\n",
       "<p>360 rows × 4 columns</p>\n",
       "</div>"
      ],
      "text/plain": [
       "                                                  text  \\\n",
       "no                                                       \n",
       "1    padahal ppkm sudah putus pada tanggal harus su...   \n",
       "2    since ppkm yg bikin mood ancur bikin frustrate...   \n",
       "3    ppkm belum hilang sudah ancam prediksi gelomba...   \n",
       "4                                     paksa karna ppkm   \n",
       "5      wali kota malang bukti langgar vonis denda juta   \n",
       "..                                                 ...   \n",
       "356     ppkm lindung masyarakat dari kena virus korona   \n",
       "357  wakil ketua umum bidang koperasi dan umkm kadi...   \n",
       "358  ubah atur ppkm level pasar dan mal boleh buka ...   \n",
       "359  ppkm bisa jadi kurang cara signifikan kasus bu...   \n",
       "360  wakil ketua umum bidang koperasi dan umkm kadi...   \n",
       "\n",
       "                                             translate  average  vaderAnalysis  \n",
       "no                                                                              \n",
       "1    even though PPKM has been broken on the date i...        0              0  \n",
       "2    since it was PPKM that ruined the mood and mad...        0              0  \n",
       "3    PPKM hasn't disappeared, it's already threaten...        0              0  \n",
       "4                               forced because of ppkm        0              0  \n",
       "5    the mayor of Malang is proof of violating the ...        0              0  \n",
       "..                                                 ...      ...            ...  \n",
       "356  PPKM protects the public from getting infected...        1              0  \n",
       "357  Kadin Deputy General Chairperson for Cooperati...        1              0  \n",
       "358  change the PPkm at market and mall levels, you...        1              0  \n",
       "359  PPKM can be less significant in cases of bully...        1              0  \n",
       "360  Kadin Deputy General Chairperson for Cooperati...        1              0  \n",
       "\n",
       "[360 rows x 4 columns]"
      ]
     },
     "execution_count": 76,
     "metadata": {},
     "output_type": "execute_result"
    }
   ],
   "source": [
    "# import pandas as pd\n",
    "# dft = pd.read_csv(\"Data01.csv\", index_col=\"no\")\n",
    "# dft\n",
    "\n",
    "from vaderSentiment.vaderSentiment import SentimentIntensityAnalyzer\n",
    "analyzer = SentimentIntensityAnalyzer()\n",
    "\n",
    "def func(string):\n",
    "    result = analyzer.polarity_scores(string)\n",
    "    num = result['compound']\n",
    "    if num < 0:\n",
    "        polar = 0\n",
    "    elif num > 0.3:\n",
    "        polar = 2\n",
    "    else:\n",
    "        polar = 1\n",
    "    return polar\n",
    "\n",
    "df['vaderAnalysis'] = df['translate'].apply(func)\n",
    "df[['text','translate','average','vaderAnalysis']]"
   ]
  },
  {
   "cell_type": "markdown",
   "metadata": {},
   "source": [
    "# Vader Sentiment Analysis Result"
   ]
  },
  {
   "cell_type": "code",
   "execution_count": 78,
   "metadata": {},
   "outputs": [
    {
     "name": "stdout",
     "output_type": "stream",
     "text": [
      "0.8361111111111111\n"
     ]
    }
   ],
   "source": [
    "correct = 0\n",
    "count = 0\n",
    "for index, row in df.iterrows():\n",
    "    count += 1\n",
    "    if row['vaderAnalysis'] == row['average']:\n",
    "        correct += 1\n",
    "print(correct/count)"
   ]
  },
  {
   "cell_type": "markdown",
   "metadata": {},
   "source": [
    "# ANN Sentimen Analisis"
   ]
  },
  {
   "cell_type": "code",
   "execution_count": 205,
   "metadata": {},
   "outputs": [],
   "source": [
    "import numpy as np\n",
    "import pandas as pd\n",
    "\n",
    "from sklearn.model_selection import train_test_split\n",
    "from sklearn.pipeline import Pipeline\n",
    "\n",
    "from jcopml.utils import save_model, load_model\n",
    "from jcopml.plot import plot_missing_value\n",
    "from jcopml.feature_importance import mean_score_decrease"
   ]
  },
  {
   "cell_type": "code",
   "execution_count": 206,
   "metadata": {},
   "outputs": [
    {
     "data": {
      "text/plain": [
       "device(type='cpu')"
      ]
     },
     "execution_count": 206,
     "metadata": {},
     "output_type": "execute_result"
    }
   ],
   "source": [
    "import torch\n",
    "from torch import nn, optim\n",
    "\n",
    "device = torch.device(\"cuda\" if torch.cuda.is_available() else \"cpu\")\n",
    "device"
   ]
  },
  {
   "cell_type": "code",
   "execution_count": 207,
   "metadata": {},
   "outputs": [
    {
     "data": {
      "text/plain": [
       "text             360\n",
       "translate        360\n",
       "label1           360\n",
       "label2           360\n",
       "average          360\n",
       "vaderAnalysis    360\n",
       "dtype: int64"
      ]
     },
     "execution_count": 207,
     "metadata": {},
     "output_type": "execute_result"
    }
   ],
   "source": [
    "df.count()"
   ]
  },
  {
   "cell_type": "code",
   "execution_count": 208,
   "metadata": {
    "scrolled": true
   },
   "outputs": [
    {
     "data": {
      "text/html": [
       "<div>\n",
       "<style scoped>\n",
       "    .dataframe tbody tr th:only-of-type {\n",
       "        vertical-align: middle;\n",
       "    }\n",
       "\n",
       "    .dataframe tbody tr th {\n",
       "        vertical-align: top;\n",
       "    }\n",
       "\n",
       "    .dataframe thead th {\n",
       "        text-align: right;\n",
       "    }\n",
       "</style>\n",
       "<table border=\"1\" class=\"dataframe\">\n",
       "  <thead>\n",
       "    <tr style=\"text-align: right;\">\n",
       "      <th></th>\n",
       "      <th>missing_value</th>\n",
       "      <th>%</th>\n",
       "    </tr>\n",
       "  </thead>\n",
       "  <tbody>\n",
       "    <tr>\n",
       "      <th>text</th>\n",
       "      <td>0</td>\n",
       "      <td>0.0</td>\n",
       "    </tr>\n",
       "    <tr>\n",
       "      <th>translate</th>\n",
       "      <td>0</td>\n",
       "      <td>0.0</td>\n",
       "    </tr>\n",
       "    <tr>\n",
       "      <th>label1</th>\n",
       "      <td>0</td>\n",
       "      <td>0.0</td>\n",
       "    </tr>\n",
       "    <tr>\n",
       "      <th>label2</th>\n",
       "      <td>0</td>\n",
       "      <td>0.0</td>\n",
       "    </tr>\n",
       "    <tr>\n",
       "      <th>average</th>\n",
       "      <td>0</td>\n",
       "      <td>0.0</td>\n",
       "    </tr>\n",
       "    <tr>\n",
       "      <th>vaderAnalysis</th>\n",
       "      <td>0</td>\n",
       "      <td>0.0</td>\n",
       "    </tr>\n",
       "  </tbody>\n",
       "</table>\n",
       "</div>"
      ],
      "text/plain": [
       "               missing_value    %\n",
       "text                       0  0.0\n",
       "translate                  0  0.0\n",
       "label1                     0  0.0\n",
       "label2                     0  0.0\n",
       "average                    0  0.0\n",
       "vaderAnalysis              0  0.0"
      ]
     },
     "execution_count": 208,
     "metadata": {},
     "output_type": "execute_result"
    },
    {
     "data": {
      "image/png": "[encoded data removed]",
      "text/plain": [
       "<Figure size 1080x576 with 1 Axes>"
      ]
     },
     "metadata": {
      "needs_background": "light"
     },
     "output_type": "display_data"
    }
   ],
   "source": [
    "plot_missing_value(df, return_df=True)"
   ]
  },
  {
   "cell_type": "code",
   "execution_count": 209,
   "metadata": {
    "scrolled": true
   },
   "outputs": [
    {
     "data": {
      "text/plain": [
       "0    0.355556\n",
       "1    0.347222\n",
       "2    0.297222\n",
       "Name: average, dtype: float64"
      ]
     },
     "execution_count": 209,
     "metadata": {},
     "output_type": "execute_result"
    }
   ],
   "source": [
    "df.average.value_counts(normalize=True)"
   ]
  },
  {
   "cell_type": "code",
   "execution_count": 210,
   "metadata": {},
   "outputs": [
    {
     "data": {
      "text/plain": [
       "1    0.388889\n",
       "2    0.319444\n",
       "0    0.291667\n",
       "Name: vaderAnalysis, dtype: float64"
      ]
     },
     "execution_count": 210,
     "metadata": {},
     "output_type": "execute_result"
    }
   ],
   "source": [
    "df.vaderAnalysis.value_counts(normalize=True)"
   ]
  },
  {
   "cell_type": "code",
   "execution_count": 754,
   "metadata": {},
   "outputs": [
    {
     "data": {
      "text/plain": [
       "((288,), (72,), (288,), (72,))"
      ]
     },
     "execution_count": 754,
     "metadata": {},
     "output_type": "execute_result"
    }
   ],
   "source": [
    "X = df.text.values\n",
    "y = df.average.values\n",
    "\n",
    "X_train, X_test, y_train, y_test = train_test_split(X, y, test_size=0.2, stratify=y, random_state=1234)\n",
    "X_train.shape, X_test.shape, y_train.shape, y_test.shape"
   ]
  },
  {
   "cell_type": "code",
   "execution_count": 755,
   "metadata": {},
   "outputs": [],
   "source": [
    "from sklearn.feature_extraction.text import CountVectorizer, TfidfVectorizer, TfidfTransformer\n",
    "from nltk.tokenize import word_tokenize\n",
    "from nltk.corpus import stopwords\n",
    "from string import punctuation\n",
    "sw_indo = stopwords.words(\"indonesian\") + list(punctuation)"
   ]
  },
  {
   "cell_type": "markdown",
   "metadata": {},
   "source": [
    "# Preprocessing Data\n",
    "## Stop words Removal\n",
    "## Tokenisasi dan Tfidf Vectorizer"
   ]
  },
  {
   "cell_type": "code",
   "execution_count": 756,
   "metadata": {},
   "outputs": [],
   "source": [
    "preprocessor = Pipeline([\n",
    "    ('prep', TfidfVectorizer(tokenizer=word_tokenize, stop_words=sw_indo)), #, max_features=500, ngram_range=(1,2)\n",
    "])"
   ]
  },
  {
   "cell_type": "code",
   "execution_count": 757,
   "metadata": {
    "scrolled": false
   },
   "outputs": [
    {
     "name": "stderr",
     "output_type": "stream",
     "text": [
      "C:\\Users\\AFA\\miniconda3\\envs\\jcopdl\\lib\\site-packages\\sklearn\\feature_extraction\\text.py:385: UserWarning: Your stop_words may be inconsistent with your preprocessing. Tokenizing the stop words generated tokens ['``'] not in stop_words.\n",
      "  'stop_words.' % sorted(inconsistent))\n"
     ]
    }
   ],
   "source": [
    "X_train = preprocessor.fit_transform(X_train).toarray()\n",
    "X_test = preprocessor.transform(X_test).toarray()"
   ]
  },
  {
   "cell_type": "code",
   "execution_count": 758,
   "metadata": {},
   "outputs": [
    {
     "data": {
      "text/plain": [
       "['abal',\n",
       " 'abar',\n",
       " 'abis',\n",
       " 'abu',\n",
       " 'acara',\n",
       " 'aceh',\n",
       " 'agung',\n",
       " 'aiptu',\n",
       " 'air',\n",
       " 'aja',\n",
       " 'ajar',\n",
       " 'akademik',\n",
       " 'akhmad',\n",
       " 'akibat',\n",
       " 'akp',\n",
       " 'aktivitas',\n",
       " 'alami',\n",
       " 'alat',\n",
       " 'alex',\n",
       " 'alexander',\n",
       " 'ambil',\n",
       " 'amt',\n",
       " 'an',\n",
       " 'anak',\n",
       " 'ancam',\n",
       " 'ancur',\n",
       " 'and',\n",
       " 'andir',\n",
       " 'anggap',\n",
       " 'anggota',\n",
       " 'angka',\n",
       " 'anjur',\n",
       " 'antisipasi',\n",
       " 'aparat',\n",
       " 'app',\n",
       " 'apresiasi',\n",
       " 'arah',\n",
       " 'area',\n",
       " 'arif',\n",
       " 'artikel',\n",
       " 'asesmen',\n",
       " 'asing',\n",
       " 'asli',\n",
       " 'asn',\n",
       " 'asu',\n",
       " 'athari',\n",
       " 'atlet',\n",
       " 'atur',\n",
       " 'aulia',\n",
       " 'awas',\n",
       " 'ayo',\n",
       " 'babinsa',\n",
       " 'baca',\n",
       " 'badung',\n",
       " 'bahas',\n",
       " 'baju',\n",
       " 'bal',\n",
       " 'balaidesa',\n",
       " 'balang',\n",
       " 'bandara',\n",
       " 'banding',\n",
       " 'bando',\n",
       " 'bandung',\n",
       " 'bandungrejo',\n",
       " 'banget',\n",
       " 'bangettt',\n",
       " 'bangga',\n",
       " 'bangkit',\n",
       " 'banjarbaru',\n",
       " 'banjarmasin',\n",
       " 'bank',\n",
       " 'bansos',\n",
       " 'bantah',\n",
       " 'barat',\n",
       " 'bareng',\n",
       " 'bas',\n",
       " 'batang',\n",
       " 'batas',\n",
       " 'batu',\n",
       " 'bawa',\n",
       " 'bayan',\n",
       " 'bayar',\n",
       " 'bbm',\n",
       " 'bebas',\n",
       " 'bego',\n",
       " 'belat',\n",
       " 'benny',\n",
       " 'bentuk',\n",
       " 'beraktifitas',\n",
       " 'berani',\n",
       " 'berat',\n",
       " 'berita',\n",
       " 'berkat',\n",
       " 'bgt',\n",
       " 'bhabinkamtibmas',\n",
       " 'biar',\n",
       " 'biaya',\n",
       " 'bidang',\n",
       " 'bijak',\n",
       " 'bikin',\n",
       " 'bilang',\n",
       " 'bingung',\n",
       " 'binmas',\n",
       " 'binsar',\n",
       " 'bioskop',\n",
       " 'biru',\n",
       " 'blh',\n",
       " 'blitar',\n",
       " 'blum',\n",
       " 'bodi',\n",
       " 'bodoh',\n",
       " 'bogor',\n",
       " 'boneka',\n",
       " 'bongkar',\n",
       " 'boye',\n",
       " 'bpb',\n",
       " 'bpjstk',\n",
       " 'brapa',\n",
       " 'bro',\n",
       " 'brp',\n",
       " 'bs',\n",
       " 'btw',\n",
       " 'buah',\n",
       " 'buang',\n",
       " 'buka',\n",
       " 'bukti',\n",
       " 'buku',\n",
       " 'bullying',\n",
       " 'bungkus',\n",
       " 'bupati',\n",
       " 'busel',\n",
       " 'buton',\n",
       " 'butuh',\n",
       " 'cakup',\n",
       " 'camat',\n",
       " 'can',\n",
       " 'capai',\n",
       " 'capek',\n",
       " 'cb',\n",
       " 'cegah',\n",
       " 'celaka',\n",
       " 'cemar',\n",
       " 'center',\n",
       " 'cepat',\n",
       " 'cianjur',\n",
       " 'cirebon',\n",
       " 'coba',\n",
       " 'cocok',\n",
       " 'command',\n",
       " 'corona',\n",
       " 'covid',\n",
       " 'cuti',\n",
       " 'daerah',\n",
       " 'dah',\n",
       " 'dakwa',\n",
       " 'dalem',\n",
       " 'dampak',\n",
       " 'dapet',\n",
       " 'darurat',\n",
       " 'dasar',\n",
       " 'data',\n",
       " 'dc',\n",
       " 'deh',\n",
       " 'deketan',\n",
       " 'demokrat',\n",
       " 'denda',\n",
       " 'denpasar',\n",
       " 'deny',\n",
       " 'desa',\n",
       " 'desember',\n",
       " 'destinasi',\n",
       " 'dgn',\n",
       " 'dialog',\n",
       " 'dibreakdown',\n",
       " 'dibuktiin',\n",
       " 'didik',\n",
       " 'dieng',\n",
       " 'diilangin',\n",
       " 'dijalanin',\n",
       " 'dilaporin',\n",
       " 'dinas',\n",
       " 'dinkes',\n",
       " 'disiplin',\n",
       " 'dki',\n",
       " 'dlm',\n",
       " 'doain',\n",
       " 'dokpim',\n",
       " 'dompet',\n",
       " 'donorojo',\n",
       " 'dorong',\n",
       " 'dosis',\n",
       " 'dowo',\n",
       " 'dpr',\n",
       " 'dprd',\n",
       " 'dpt',\n",
       " 'dr',\n",
       " 'duduk',\n",
       " 'dukung',\n",
       " 'edukasi',\n",
       " 'efek',\n",
       " 'efektif',\n",
       " 'efektifitas',\n",
       " 'efektivitas',\n",
       " 'eh',\n",
       " 'ehhh',\n",
       " 'ekonomi',\n",
       " 'eks',\n",
       " 'elaborasi',\n",
       " 'emang',\n",
       " 'embonge',\n",
       " 'emg',\n",
       " 'episode',\n",
       " 'erik',\n",
       " 'esensial',\n",
       " 'evaluasi',\n",
       " 'even',\n",
       " 'event',\n",
       " 'facebook',\n",
       " 'fakta',\n",
       " 'faktor',\n",
       " 'fasilitas',\n",
       " 'fasum',\n",
       " 'feel',\n",
       " 'fokus',\n",
       " 'foto',\n",
       " 'from',\n",
       " 'frustrated',\n",
       " 'full',\n",
       " 'ga',\n",
       " 'gaada',\n",
       " 'gaberani',\n",
       " 'gabisa',\n",
       " 'gaboleh',\n",
       " 'gabung',\n",
       " 'gaji',\n",
       " 'gak',\n",
       " 'gamau',\n",
       " 'gambar',\n",
       " 'ganti',\n",
       " 'gantung',\n",
       " 'gapapa',\n",
       " 'gaperlu',\n",
       " 'gapok',\n",
       " 'garut',\n",
       " 'gatau',\n",
       " 'gehara',\n",
       " 'gelar',\n",
       " 'gelombang',\n",
       " 'gembira',\n",
       " 'gembor',\n",
       " 'gemborin',\n",
       " 'genjot',\n",
       " 'gera',\n",
       " 'geser',\n",
       " 'giat',\n",
       " 'gilo',\n",
       " 'gimana',\n",
       " 'gin',\n",
       " 'ginting',\n",
       " 'gitu',\n",
       " 'gk',\n",
       " 'good',\n",
       " 'grobogan',\n",
       " 'gt',\n",
       " 'gubernur',\n",
       " 'gusti',\n",
       " 'guwe',\n",
       " 'gw',\n",
       " 'gym',\n",
       " 'hadap',\n",
       " 'hambat',\n",
       " 'harap',\n",
       " 'harga',\n",
       " 'hasil',\n",
       " 'hasyim',\n",
       " 'hdp',\n",
       " 'henti',\n",
       " 'herd',\n",
       " 'hidup',\n",
       " 'hijau',\n",
       " 'hilang',\n",
       " 'himbau',\n",
       " 'himbauan',\n",
       " 'hotel',\n",
       " 'hr',\n",
       " 'hukum',\n",
       " 'humanis',\n",
       " 'humas',\n",
       " 'i',\n",
       " 'iii',\n",
       " 'imam',\n",
       " 'imbas',\n",
       " 'imbau',\n",
       " 'immunity',\n",
       " 'ina',\n",
       " 'indar',\n",
       " 'indikator',\n",
       " 'indonesia',\n",
       " 'infeksi',\n",
       " 'inmendagri',\n",
       " 'instruksi',\n",
       " 'instrumen',\n",
       " 'integrasi',\n",
       " 'intensif',\n",
       " 'intensitas',\n",
       " 'inti',\n",
       " 'investasi',\n",
       " 'iring',\n",
       " 'istilah',\n",
       " 'iur',\n",
       " 'iv',\n",
       " 'iya',\n",
       " 'izin',\n",
       " 'j',\n",
       " 'jabat',\n",
       " 'jaga',\n",
       " 'jajar',\n",
       " 'jakarta',\n",
       " 'jam',\n",
       " 'jamin',\n",
       " 'jarak',\n",
       " 'jarang',\n",
       " 'jatim',\n",
       " 'jatuh',\n",
       " 'jawa',\n",
       " 'jd',\n",
       " 'jeje',\n",
       " 'jenderal',\n",
       " 'jepara',\n",
       " 'jepit',\n",
       " 'jg',\n",
       " 'jgn',\n",
       " 'jkt',\n",
       " 'jokowi',\n",
       " 'juang',\n",
       " 'judul',\n",
       " 'juta',\n",
       " 'kabupaten',\n",
       " 'kadin',\n",
       " 'kadrun',\n",
       " 'kait',\n",
       " 'kali',\n",
       " 'kalimantan',\n",
       " 'kalo',\n",
       " 'kamis',\n",
       " 'kampanye',\n",
       " 'kampung',\n",
       " 'kampus',\n",
       " 'kamtibmas',\n",
       " 'kantor',\n",
       " 'kapasitas',\n",
       " 'kapolda',\n",
       " 'kapolri',\n",
       " 'karangpandan',\n",
       " 'karantina',\n",
       " 'karimun',\n",
       " 'karna',\n",
       " 'karyadi',\n",
       " 'kasatpol',\n",
       " 'kaum',\n",
       " 'kaya',\n",
       " 'kayak',\n",
       " 'kca',\n",
       " 'kece',\n",
       " 'kedung',\n",
       " 'kejar',\n",
       " 'keliling',\n",
       " 'kemaren',\n",
       " 'kembang',\n",
       " 'kemenkes',\n",
       " 'kemnaker',\n",
       " 'kemusu',\n",
       " 'ken',\n",
       " 'kena',\n",
       " 'kenal',\n",
       " 'kendala',\n",
       " 'kendali',\n",
       " 'kendara',\n",
       " 'kendati',\n",
       " 'kep',\n",
       " 'kepala',\n",
       " 'kepanjen',\n",
       " 'kepri',\n",
       " 'kering',\n",
       " 'kerja',\n",
       " 'kerumun',\n",
       " 'ketat',\n",
       " 'ketua',\n",
       " 'khawatir',\n",
       " 'khofifah',\n",
       " 'kian',\n",
       " 'kiri',\n",
       " 'kl',\n",
       " 'klaim',\n",
       " 'klaten',\n",
       " 'klewor',\n",
       " 'km',\n",
       " 'kmudian',\n",
       " 'kodim',\n",
       " 'koja',\n",
       " 'kolaborasi',\n",
       " 'kompak',\n",
       " 'kompas',\n",
       " 'kondang',\n",
       " 'kondisi',\n",
       " 'kondusifitas',\n",
       " 'konsep',\n",
       " 'kontrol',\n",
       " 'koordinator',\n",
       " 'koperasi',\n",
       " 'koramil',\n",
       " 'korban',\n",
       " 'korea',\n",
       " 'korona',\n",
       " 'kota',\n",
       " 'kpc',\n",
       " 'kpd',\n",
       " 'kpk',\n",
       " 'kryd',\n",
       " 'ku',\n",
       " 'kudu',\n",
       " 'kudus',\n",
       " 'kuliah',\n",
       " 'kunci',\n",
       " 'kundur',\n",
       " 'kunker',\n",
       " 'kurung',\n",
       " 'kuta',\n",
       " 'kyknya',\n",
       " 'lacak',\n",
       " 'lahh',\n",
       " 'laju',\n",
       " 'laksana',\n",
       " 'laku',\n",
       " 'langgar',\n",
       " 'langit',\n",
       " 'langka',\n",
       " 'langkah',\n",
       " 'langsung',\n",
       " 'lansia',\n",
       " 'lapang',\n",
       " 'lapor',\n",
       " 'larang',\n",
       " 'laut',\n",
       " 'lawan',\n",
       " 'lbp',\n",
       " 'lemah',\n",
       " 'lengah',\n",
       " 'lengkap',\n",
       " 'lensakabinet',\n",
       " 'level',\n",
       " 'leveling',\n",
       " 'lg',\n",
       " 'liatin',\n",
       " 'libur',\n",
       " 'lihat',\n",
       " 'lindung',\n",
       " 'linmas',\n",
       " 'listyo',\n",
       " 'lo',\n",
       " 'lokdon',\n",
       " 'longgar',\n",
       " 'lonjak',\n",
       " 'lovers',\n",
       " 'luhut',\n",
       " 'luhutbinsarpandjaitan',\n",
       " 'lupa',\n",
       " 'lurah',\n",
       " 'm',\n",
       " 'macet',\n",
       " 'made',\n",
       " 'magetan',\n",
       " 'main',\n",
       " 'makan',\n",
       " 'makassar',\n",
       " 'mal',\n",
       " 'mala',\n",
       " 'malam',\n",
       " 'malang',\n",
       " 'malem',\n",
       " 'mama',\n",
       " 'mamam',\n",
       " 'manfaat',\n",
       " 'mangkrak',\n",
       " 'mantep',\n",
       " 'marah',\n",
       " 'mario',\n",
       " 'mariso',\n",
       " 'maritim',\n",
       " 'mas',\n",
       " 'masker',\n",
       " 'masuk',\n",
       " 'masyarakat',\n",
       " 'mati',\n",
       " 'maulidin',\n",
       " 'me',\n",
       " 'medan',\n",
       " 'medis',\n",
       " 'melaksnakan',\n",
       " 'men',\n",
       " 'mende',\n",
       " 'mending',\n",
       " 'menghimbau',\n",
       " 'mengijinkan',\n",
       " 'mental',\n",
       " 'menteri',\n",
       " 'merinci',\n",
       " 'meru',\n",
       " 'mikro',\n",
       " 'milik',\n",
       " 'min',\n",
       " 'minggu',\n",
       " 'minimal',\n",
       " 'mobilitas',\n",
       " 'moga',\n",
       " 'money',\n",
       " 'monitoring',\n",
       " 'mood',\n",
       " 'morowali',\n",
       " 'motor',\n",
       " 'msh',\n",
       " 'msk',\n",
       " 'muhamad',\n",
       " 'muka',\n",
       " 'mulu',\n",
       " 'musim',\n",
       " 'my',\n",
       " 'n',\n",
       " 'nadia',\n",
       " 'nafas',\n",
       " 'nafsu',\n",
       " 'nama',\n",
       " 'nambah',\n",
       " 'narasumber',\n",
       " 'nasi',\n",
       " 'negara',\n",
       " 'negatif',\n",
       " 'new',\n",
       " 'news',\n",
       " 'ngapa',\n",
       " 'ngaruh',\n",
       " 'ngegampangin',\n",
       " 'ngelanggar',\n",
       " 'nggak',\n",
       " 'ngobrol',\n",
       " 'ngurah',\n",
       " 'ngurangin',\n",
       " 'nguter',\n",
       " 'nih',\n",
       " 'nikah',\n",
       " 'nilai',\n",
       " 'non',\n",
       " 'nonesensial',\n",
       " 'nongkrong',\n",
       " 'normal',\n",
       " 'ntar',\n",
       " 'nyata',\n",
       " 'nyusahin',\n",
       " 'office',\n",
       " 'ofisial',\n",
       " 'oki',\n",
       " 'okt',\n",
       " 'oktober',\n",
       " 'omdo',\n",
       " 'operasi',\n",
       " 'operasional',\n",
       " 'ops',\n",
       " 'orang',\n",
       " 'ortu',\n",
       " 'padang',\n",
       " 'pakai',\n",
       " 'pakar',\n",
       " 'paksa',\n",
       " 'pambudi',\n",
       " 'pandang',\n",
       " 'pandeglang',\n",
       " 'pandemi',\n",
       " 'pandjaitan',\n",
       " 'pangandaran',\n",
       " 'panit',\n",
       " 'pantai',\n",
       " 'pantau',\n",
       " 'parameter',\n",
       " 'parawansa',\n",
       " 'pariwisata',\n",
       " 'partai',\n",
       " 'pas',\n",
       " 'pasar',\n",
       " 'pasca',\n",
       " 'pasok',\n",
       " 'pasrah',\n",
       " 'patroli',\n",
       " 'patuh',\n",
       " 'patumbak',\n",
       " 'paulus',\n",
       " 'pcr',\n",
       " 'pd',\n",
       " 'pdhl',\n",
       " 'pedulisetan',\n",
       " 'pelan',\n",
       " 'pemkab',\n",
       " 'pemko',\n",
       " 'pemuda',\n",
       " 'pen',\n",
       " 'pengaruh',\n",
       " 'penghimbauan',\n",
       " 'penjara',\n",
       " 'penuh',\n",
       " 'people',\n",
       " 'percaya',\n",
       " 'perihal',\n",
       " 'perilaku',\n",
       " 'perintah',\n",
       " 'perna',\n",
       " 'pers',\n",
       " 'persen',\n",
       " 'personil',\n",
       " 'perwal',\n",
       " 'pesan',\n",
       " 'pesawat',\n",
       " 'philep',\n",
       " 'pidana',\n",
       " 'piket',\n",
       " 'pikir',\n",
       " 'pilar',\n",
       " 'pilih',\n",
       " 'pilkades',\n",
       " 'pilkdes',\n",
       " 'pimpin',\n",
       " 'pintu',\n",
       " 'pita',\n",
       " 'plong',\n",
       " 'plt',\n",
       " 'pn',\n",
       " 'pokoknyaaa',\n",
       " 'polda',\n",
       " 'polemik',\n",
       " 'polisi',\n",
       " 'politis',\n",
       " 'polres',\n",
       " 'polri',\n",
       " 'polsek',\n",
       " 'polusi',\n",
       " 'pos',\n",
       " 'positif',\n",
       " 'posko',\n",
       " 'potensi',\n",
       " 'potret',\n",
       " 'pp',\n",
       " 'ppk',\n",
       " 'ppkm',\n",
       " 'prabowo',\n",
       " 'praja',\n",
       " 'prajagupta',\n",
       " 'prediksi',\n",
       " 'presisi',\n",
       " 'prestasi',\n",
       " 'produktif',\n",
       " 'prokes',\n",
       " 'protkes',\n",
       " 'protokol',\n",
       " 'provinsi',\n",
       " 'psbb',\n",
       " 'pulang',\n",
       " 'pulau',\n",
       " 'pulih',\n",
       " 'puput',\n",
       " 'purwodadi',\n",
       " 'pusat',\n",
       " 'putus',\n",
       " 'rahajeng',\n",
       " 'raika',\n",
       " 'rakor',\n",
       " 'rakyat',\n",
       " 'rame',\n",
       " 'rangka',\n",
       " 'razia',\n",
       " 'rcti',\n",
       " 'rebah',\n",
       " 'regulasi',\n",
       " 'reisa',\n",
       " 'rekrut',\n",
       " 'rendah',\n",
       " 'resmi',\n",
       " 'reza',\n",
       " 'rezim',\n",
       " 'ri',\n",
       " 'ria',\n",
       " 'riau',\n",
       " 'ribu',\n",
       " 'rilis',\n",
       " 'ringan',\n",
       " 'rolling',\n",
       " 'rombong',\n",
       " 'rp',\n",
       " 'ruang',\n",
       " 'rugi',\n",
       " 'rumah',\n",
       " 'rundung',\n",
       " 'rupa',\n",
       " 'ruweeetttt',\n",
       " 'rw',\n",
       " 'sahabat',\n",
       " 'sakit',\n",
       " 'saksi',\n",
       " 'salah',\n",
       " 'salam',\n",
       " 'sali',\n",
       " 'samapta',\n",
       " 'sambang',\n",
       " 'sampe',\n",
       " 'sanksi',\n",
       " 'santoso',\n",
       " 'sasar',\n",
       " 'sat',\n",
       " 'satgas',\n",
       " 'satpol',\n",
       " 'satsamapta',\n",
       " 'save',\n",
       " 'sayang',\n",
       " 'sbg',\n",
       " 'sblm',\n",
       " 'sdh',\n",
       " 'sea',\n",
       " 'sebar',\n",
       " 'sehat',\n",
       " 'sekolah',\n",
       " 'sekretaris',\n",
       " 'sektor',\n",
       " 'selamat',\n",
       " 'selasa',\n",
       " 'selatan',\n",
       " 'seleksi',\n",
       " 'selenggara',\n",
       " 'selesai',\n",
       " 'semenjak',\n",
       " 'semeton',\n",
       " 'senin',\n",
       " 'sepeda',\n",
       " 'sepi',\n",
       " 'september',\n",
       " 'serah',\n",
       " 'serang',\n",
       " 'serbu',\n",
       " 'serda',\n",
       " 'serius',\n",
       " 'sesuai',\n",
       " 'setor',\n",
       " 'share',\n",
       " 'si',\n",
       " 'siang',\n",
       " 'sidang',\n",
       " 'sidoarjo',\n",
       " 'sigit',\n",
       " 'signifikan',\n",
       " 'sih',\n",
       " 'sila',\n",
       " 'simak',\n",
       " 'since',\n",
       " 'sinetron',\n",
       " 'singapura',\n",
       " 'singkat',\n",
       " 'sist',\n",
       " 'sistem',\n",
       " 'siswa',\n",
       " 'siti',\n",
       " 'skala',\n",
       " 'skalian',\n",
       " 'skg',\n",
       " 'slamat',\n",
       " 'social',\n",
       " 'sore',\n",
       " 'sosialisasi',\n",
       " 'sosmed',\n",
       " 'status',\n",
       " 'steril',\n",
       " 'strategis',\n",
       " 'street',\n",
       " 'stress',\n",
       " 'suasana',\n",
       " 'subsider',\n",
       " 'sukses',\n",
       " 'sulawesi',\n",
       " 'suluh',\n",
       " 'surabaya',\n",
       " 'susah',\n",
       " 'sutiaji',\n",
       " 'sutradara',\n",
       " 'suwanto',\n",
       " 'swasta',\n",
       " 'syarat',\n",
       " 'syarbini',\n",
       " 'taat',\n",
       " 'tagih',\n",
       " 'tahan',\n",
       " 'tahap',\n",
       " 'takut',\n",
       " 'taman',\n",
       " 'tanah',\n",
       " 'tangan',\n",
       " 'tanggal',\n",
       " 'tanggap',\n",
       " 'tangguh',\n",
       " 'tangkal',\n",
       " 'tara',\n",
       " 'target',\n",
       " 'tatap',\n",
       " 'tau',\n",
       " 'tbtb',\n",
       " 'tdk',\n",
       " 'tega',\n",
       " 'tegak',\n",
       " 'tegalwaru',\n",
       " 'tekan',\n",
       " 'telpon',\n",
       " 'tenggara',\n",
       " 'terang',\n",
       " 'terap',\n",
       " 'terimakasi',\n",
       " 'terminal',\n",
       " 'tertib',\n",
       " 'test',\n",
       " 'tetangga',\n",
       " 'tetek',\n",
       " 'teteup',\n",
       " 'thankful',\n",
       " 'thr',\n",
       " 'tiket',\n",
       " 'tim',\n",
       " 'timbul',\n",
       " 'tindak',\n",
       " 'tingkat',\n",
       " 'tipiring',\n",
       " 'toko',\n",
       " 'tolok',\n",
       " 'total',\n",
       " 'tp',\n",
       " 'tradisional',\n",
       " 'trantib',\n",
       " 'traveling',\n",
       " 'treatment',\n",
       " 'tri',\n",
       " 'trs',\n",
       " 'trus',\n",
       " 'ttp',\n",
       " 'tua',\n",
       " 'tugas',\n",
       " 'tuh',\n",
       " 'tuju',\n",
       " 'tuk',\n",
       " 'tular',\n",
       " 'tunda',\n",
       " 'tunggu',\n",
       " 'tunjang',\n",
       " 'turis',\n",
       " 'turun',\n",
       " 'tutup',\n",
       " 'tv',\n",
       " 'uang',\n",
       " 'ubah',\n",
       " 'udah',\n",
       " 'udara',\n",
       " 'udh',\n",
       " 'uin',\n",
       " 'uji',\n",
       " 'ujung',\n",
       " 'ukur',\n",
       " 'umkm',\n",
       " 'umr',\n",
       " 'unit',\n",
       " 'unri',\n",
       " 'upa',\n",
       " 'upaya',\n",
       " 'update',\n",
       " 'usaha',\n",
       " 'usia',\n",
       " 'utama',\n",
       " 'utara',\n",
       " 'utk',\n",
       " 'vaksin',\n",
       " 'vaksinasi',\n",
       " 'varian',\n",
       " 'very',\n",
       " 'via',\n",
       " 'vicon',\n",
       " 'virus',\n",
       " 'vonis',\n",
       " 'w',\n",
       " 'wajib',\n",
       " 'waka',\n",
       " 'wakil',\n",
       " 'wali',\n",
       " 'warga',\n",
       " 'wengi',\n",
       " 'wfo',\n",
       " 'wib',\n",
       " 'wilayah',\n",
       " 'wiradinata',\n",
       " 'wisata',\n",
       " 'wisma',\n",
       " 'wkwk',\n",
       " 'wkwkwk',\n",
       " 'wna',\n",
       " 'work',\n",
       " 'woro',\n",
       " 'wujud',\n",
       " 'x',\n",
       " 'y',\n",
       " 'ya',\n",
       " 'yg',\n",
       " 'yustisi',\n",
       " 'zaman',\n",
       " 'zona',\n",
       " 'zoom']"
      ]
     },
     "execution_count": 758,
     "metadata": {},
     "output_type": "execute_result"
    }
   ],
   "source": [
    "preprocessor['prep'].get_feature_names()"
   ]
  },
  {
   "cell_type": "code",
   "execution_count": 759,
   "metadata": {},
   "outputs": [],
   "source": [
    "from torch.utils.data import DataLoader, TensorDataset"
   ]
  },
  {
   "cell_type": "code",
   "execution_count": 760,
   "metadata": {},
   "outputs": [],
   "source": [
    "X_train = torch.FloatTensor(X_train).to(device)\n",
    "X_test = torch.FloatTensor(X_test).to(device)\n",
    "y_train = torch.LongTensor(y_train).to(device)\n",
    "y_test = torch.LongTensor(y_test).to(device)"
   ]
  },
  {
   "cell_type": "code",
   "execution_count": 761,
   "metadata": {},
   "outputs": [],
   "source": [
    "bs = 128\n",
    "\n",
    "train_set = TensorDataset(X_train, y_train)\n",
    "trainloader = DataLoader(train_set, batch_size=bs, shuffle=True, num_workers=8)\n",
    "\n",
    "test_set = TensorDataset(X_test, y_test)\n",
    "testloader = DataLoader(test_set, batch_size=bs, num_workers=8)"
   ]
  },
  {
   "cell_type": "code",
   "execution_count": 762,
   "metadata": {},
   "outputs": [
    {
     "data": {
      "text/plain": [
       "(288, 72, 3, 1)"
      ]
     },
     "execution_count": 762,
     "metadata": {},
     "output_type": "execute_result"
    }
   ],
   "source": [
    "len(train_set), len(test_set), len(trainloader), len(testloader)"
   ]
  },
  {
   "cell_type": "markdown",
   "metadata": {},
   "source": [
    "# Arsitektur dan Config"
   ]
  },
  {
   "cell_type": "code",
   "execution_count": 763,
   "metadata": {},
   "outputs": [],
   "source": [
    "from jcopdl.layers import linear_block"
   ]
  },
  {
   "cell_type": "code",
   "execution_count": 764,
   "metadata": {},
   "outputs": [],
   "source": [
    "class FashionClassfier(nn.Module):\n",
    "    def __init__(self, input_size, output_size, dropout=0.2):\n",
    "        super().__init__()\n",
    "        self.fc = nn.Sequential(\n",
    "            linear_block(input_size, 64, dropout=dropout),\n",
    "            linear_block(64, 64, dropout=dropout),\n",
    "            linear_block(64, output_size, activation=\"lsoftmax\") #, activation=\"lsoftmax\"\n",
    "        )\n",
    "         \n",
    "    def forward(self, x):\n",
    "        return self.fc(x)      "
   ]
  },
  {
   "cell_type": "code",
   "execution_count": 765,
   "metadata": {},
   "outputs": [],
   "source": [
    "from jcopdl.callback import Callback, set_config\n",
    "\n",
    "config = set_config({\n",
    "    \"input_size\": X_train.shape[1],\n",
    "    \"output_size\": 3,\n",
    "    \"dropout\": 0.2\n",
    "})"
   ]
  },
  {
   "cell_type": "markdown",
   "metadata": {},
   "source": [
    "# Training Prep -> MCOC"
   ]
  },
  {
   "cell_type": "code",
   "execution_count": 766,
   "metadata": {},
   "outputs": [],
   "source": [
    "model = FashionClassfier(config.input_size, config.output_size, config.dropout).to(device)\n",
    "criterion = nn.NLLLoss()\n",
    "optimizer = optim.AdamW(model.parameters(), lr=0.01)\n",
    "callback = Callback(model, config, outdir=\"SentimenModel\", early_stop_patience=10)"
   ]
  },
  {
   "cell_type": "code",
   "execution_count": 767,
   "metadata": {},
   "outputs": [
    {
     "name": "stdout",
     "output_type": "stream",
     "text": [
      "FashionClassfier(\n",
      "  (fc): Sequential(\n",
      "    (0): Sequential(\n",
      "      (0): Linear(in_features=914, out_features=64, bias=True)\n",
      "      (1): ReLU()\n",
      "      (2): Dropout(p=0.2, inplace=False)\n",
      "    )\n",
      "    (1): Sequential(\n",
      "      (0): Linear(in_features=64, out_features=64, bias=True)\n",
      "      (1): ReLU()\n",
      "      (2): Dropout(p=0.2, inplace=False)\n",
      "    )\n",
      "    (2): Sequential(\n",
      "      (0): Linear(in_features=64, out_features=3, bias=True)\n",
      "      (1): LogSoftmax()\n",
      "    )\n",
      "  )\n",
      ")\n"
     ]
    }
   ],
   "source": [
    "print(model.train())"
   ]
  },
  {
   "cell_type": "code",
   "execution_count": 768,
   "metadata": {},
   "outputs": [
    {
     "name": "stdout",
     "output_type": "stream",
     "text": [
      "FashionClassfier(\n",
      "  (fc): Sequential(\n",
      "    (0): Sequential(\n",
      "      (0): Linear(in_features=914, out_features=64, bias=True)\n",
      "      (1): ReLU()\n",
      "      (2): Dropout(p=0.2, inplace=False)\n",
      "    )\n",
      "    (1): Sequential(\n",
      "      (0): Linear(in_features=64, out_features=64, bias=True)\n",
      "      (1): ReLU()\n",
      "      (2): Dropout(p=0.2, inplace=False)\n",
      "    )\n",
      "    (2): Sequential(\n",
      "      (0): Linear(in_features=64, out_features=3, bias=True)\n",
      "      (1): LogSoftmax()\n",
      "    )\n",
      "  )\n",
      ")\n"
     ]
    }
   ],
   "source": [
    "print(model.eval())"
   ]
  },
  {
   "cell_type": "markdown",
   "metadata": {},
   "source": [
    "# Training "
   ]
  },
  {
   "cell_type": "code",
   "execution_count": 769,
   "metadata": {},
   "outputs": [],
   "source": [
    "from tqdm.auto import tqdm\n",
    "\n",
    "def loop_fn(mode, dataset, dataloader, model, criterion, optimizer, device):   \n",
    "    if mode == \"train\":\n",
    "        model.train()\n",
    "    elif mode == \"test\":\n",
    "        model.eval()\n",
    "    cost = correct = 0\n",
    "    for feature, target in tqdm(dataloader, desc=mode.title()):\n",
    "        feature, target = feature.to(device), target.to(device)\n",
    "        output = model(feature)\n",
    "        loss = criterion(output, target)\n",
    "        \n",
    "        if mode == \"train\":\n",
    "            loss.backward()\n",
    "            optimizer.step()\n",
    "            optimizer.zero_grad()\n",
    "        \n",
    "        cost += loss.item() * feature.shape[0]\n",
    "        correct += (output.argmax(1) == target).sum().item()\n",
    "    cost = cost / len(dataset)\n",
    "    acc = correct / len(dataset)\n",
    "    return cost, acc"
   ]
  },
  {
   "cell_type": "code",
   "execution_count": 770,
   "metadata": {
    "scrolled": false
   },
   "outputs": [
    {
     "data": {
      "application/vnd.jupyter.widget-view+json": {
       "model_id": "15d7821637ee40c6b30b0b9ba5ef19de",
       "version_major": 2,
       "version_minor": 0
      },
      "text/plain": [
       "HBox(children=(FloatProgress(value=0.0, description='Train', max=3.0, style=ProgressStyle(description_width='i…"
      ]
     },
     "metadata": {},
     "output_type": "display_data"
    },
    {
     "name": "stdout",
     "output_type": "stream",
     "text": [
      "\n"
     ]
    },
    {
     "data": {
      "application/vnd.jupyter.widget-view+json": {
       "model_id": "c0bbd3cb2fdc4223ade230ef70fd9c6b",
       "version_major": 2,
       "version_minor": 0
      },
      "text/plain": [
       "HBox(children=(FloatProgress(value=0.0, description='Test', max=1.0, style=ProgressStyle(description_width='in…"
      ]
     },
     "metadata": {},
     "output_type": "display_data"
    },
    {
     "name": "stdout",
     "output_type": "stream",
     "text": [
      "\n",
      "\n",
      "Epoch     1\n",
      "Train_cost  = 1.0938 | Test_cost  = 1.0767 | Train_score = 0.3889 | Test_score = 0.3889 |\n"
     ]
    },
    {
     "data": {
      "application/vnd.jupyter.widget-view+json": {
       "model_id": "1cd0fc2c6d3d45cd8979e2740d2dd7da",
       "version_major": 2,
       "version_minor": 0
      },
      "text/plain": [
       "HBox(children=(FloatProgress(value=0.0, description='Train', max=3.0, style=ProgressStyle(description_width='i…"
      ]
     },
     "metadata": {},
     "output_type": "display_data"
    },
    {
     "name": "stdout",
     "output_type": "stream",
     "text": [
      "\n"
     ]
    },
    {
     "data": {
      "application/vnd.jupyter.widget-view+json": {
       "model_id": "d9de4e0a92474d3286f85c6317729de2",
       "version_major": 2,
       "version_minor": 0
      },
      "text/plain": [
       "HBox(children=(FloatProgress(value=0.0, description='Test', max=1.0, style=ProgressStyle(description_width='in…"
      ]
     },
     "metadata": {},
     "output_type": "display_data"
    },
    {
     "name": "stdout",
     "output_type": "stream",
     "text": [
      "\n",
      "\n",
      "Epoch     2\n",
      "Train_cost  = 1.0587 | Test_cost  = 1.0146 | Train_score = 0.4028 | Test_score = 0.5278 |\n"
     ]
    },
    {
     "data": {
      "application/vnd.jupyter.widget-view+json": {
       "model_id": "3a91638780024993864f9b08170db12d",
       "version_major": 2,
       "version_minor": 0
      },
      "text/plain": [
       "HBox(children=(FloatProgress(value=0.0, description='Train', max=3.0, style=ProgressStyle(description_width='i…"
      ]
     },
     "metadata": {},
     "output_type": "display_data"
    },
    {
     "name": "stdout",
     "output_type": "stream",
     "text": [
      "\n"
     ]
    },
    {
     "data": {
      "application/vnd.jupyter.widget-view+json": {
       "model_id": "eba7bf6fb7f8470cad0d04f8bba8bdc6",
       "version_major": 2,
       "version_minor": 0
      },
      "text/plain": [
       "HBox(children=(FloatProgress(value=0.0, description='Test', max=1.0, style=ProgressStyle(description_width='in…"
      ]
     },
     "metadata": {},
     "output_type": "display_data"
    },
    {
     "name": "stdout",
     "output_type": "stream",
     "text": [
      "\n",
      "\n",
      "Epoch     3\n",
      "Train_cost  = 0.9475 | Test_cost  = 0.8830 | Train_score = 0.6250 | Test_score = 0.7083 |\n"
     ]
    },
    {
     "data": {
      "application/vnd.jupyter.widget-view+json": {
       "model_id": "12437b48a4074079abc905b423470889",
       "version_major": 2,
       "version_minor": 0
      },
      "text/plain": [
       "HBox(children=(FloatProgress(value=0.0, description='Train', max=3.0, style=ProgressStyle(description_width='i…"
      ]
     },
     "metadata": {},
     "output_type": "display_data"
    },
    {
     "name": "stdout",
     "output_type": "stream",
     "text": [
      "\n"
     ]
    },
    {
     "data": {
      "application/vnd.jupyter.widget-view+json": {
       "model_id": "ee2c14bbcde346ad842816ce6ee60c8e",
       "version_major": 2,
       "version_minor": 0
      },
      "text/plain": [
       "HBox(children=(FloatProgress(value=0.0, description='Test', max=1.0, style=ProgressStyle(description_width='in…"
      ]
     },
     "metadata": {},
     "output_type": "display_data"
    },
    {
     "name": "stdout",
     "output_type": "stream",
     "text": [
      "\n",
      "\n",
      "Epoch     4\n",
      "Train_cost  = 0.7446 | Test_cost  = 0.7255 | Train_score = 0.8542 | Test_score = 0.7639 |\n"
     ]
    },
    {
     "data": {
      "application/vnd.jupyter.widget-view+json": {
       "model_id": "600e1e527ef84b78abee5206249d3bd2",
       "version_major": 2,
       "version_minor": 0
      },
      "text/plain": [
       "HBox(children=(FloatProgress(value=0.0, description='Train', max=3.0, style=ProgressStyle(description_width='i…"
      ]
     },
     "metadata": {},
     "output_type": "display_data"
    },
    {
     "name": "stdout",
     "output_type": "stream",
     "text": [
      "\n"
     ]
    },
    {
     "data": {
      "application/vnd.jupyter.widget-view+json": {
       "model_id": "ff1e6f5e4d8c463087726b02c851d8e0",
       "version_major": 2,
       "version_minor": 0
      },
      "text/plain": [
       "HBox(children=(FloatProgress(value=0.0, description='Test', max=1.0, style=ProgressStyle(description_width='in…"
      ]
     },
     "metadata": {},
     "output_type": "display_data"
    },
    {
     "name": "stdout",
     "output_type": "stream",
     "text": [
      "\n",
      "\n",
      "Epoch     5\n",
      "Train_cost  = 0.4988 | Test_cost  = 0.6143 | Train_score = 0.8854 | Test_score = 0.7500 |\n",
      "\u001b[31m==> EarlyStop patience =  1 | Best test_score: 0.7639\u001b[0m\n"
     ]
    },
    {
     "data": {
      "application/vnd.jupyter.widget-view+json": {
       "model_id": "8c21cecd63eb4723b724171bb257e2a3",
       "version_major": 2,
       "version_minor": 0
      },
      "text/plain": [
       "HBox(children=(FloatProgress(value=0.0, description='Train', max=3.0, style=ProgressStyle(description_width='i…"
      ]
     },
     "metadata": {},
     "output_type": "display_data"
    },
    {
     "name": "stdout",
     "output_type": "stream",
     "text": [
      "\n"
     ]
    },
    {
     "data": {
      "application/vnd.jupyter.widget-view+json": {
       "model_id": "acb988d14cdb4993b819bdf2457b7859",
       "version_major": 2,
       "version_minor": 0
      },
      "text/plain": [
       "HBox(children=(FloatProgress(value=0.0, description='Test', max=1.0, style=ProgressStyle(description_width='in…"
      ]
     },
     "metadata": {},
     "output_type": "display_data"
    },
    {
     "name": "stdout",
     "output_type": "stream",
     "text": [
      "\n",
      "\n",
      "Epoch     6\n",
      "Train_cost  = 0.3356 | Test_cost  = 0.5977 | Train_score = 0.9097 | Test_score = 0.7500 |\n",
      "\u001b[31m==> EarlyStop patience =  2 | Best test_score: 0.7639\u001b[0m\n"
     ]
    },
    {
     "data": {
      "application/vnd.jupyter.widget-view+json": {
       "model_id": "9e12a971bc2747189479509c7f082e90",
       "version_major": 2,
       "version_minor": 0
      },
      "text/plain": [
       "HBox(children=(FloatProgress(value=0.0, description='Train', max=3.0, style=ProgressStyle(description_width='i…"
      ]
     },
     "metadata": {},
     "output_type": "display_data"
    },
    {
     "name": "stdout",
     "output_type": "stream",
     "text": [
      "\n"
     ]
    },
    {
     "data": {
      "application/vnd.jupyter.widget-view+json": {
       "model_id": "c39938fd8ab64cf78de3d474bb89dea1",
       "version_major": 2,
       "version_minor": 0
      },
      "text/plain": [
       "HBox(children=(FloatProgress(value=0.0, description='Test', max=1.0, style=ProgressStyle(description_width='in…"
      ]
     },
     "metadata": {},
     "output_type": "display_data"
    },
    {
     "name": "stdout",
     "output_type": "stream",
     "text": [
      "\n",
      "\n",
      "Epoch     7\n",
      "Train_cost  = 0.2058 | Test_cost  = 0.7198 | Train_score = 0.9132 | Test_score = 0.7361 |\n",
      "\u001b[31m==> EarlyStop patience =  3 | Best test_score: 0.7639\u001b[0m\n"
     ]
    },
    {
     "data": {
      "application/vnd.jupyter.widget-view+json": {
       "model_id": "097f008582d0437193521dd08333db5b",
       "version_major": 2,
       "version_minor": 0
      },
      "text/plain": [
       "HBox(children=(FloatProgress(value=0.0, description='Train', max=3.0, style=ProgressStyle(description_width='i…"
      ]
     },
     "metadata": {},
     "output_type": "display_data"
    },
    {
     "name": "stdout",
     "output_type": "stream",
     "text": [
      "\n"
     ]
    },
    {
     "data": {
      "application/vnd.jupyter.widget-view+json": {
       "model_id": "a20bbeaf91c14574b1815d6d25e8b625",
       "version_major": 2,
       "version_minor": 0
      },
      "text/plain": [
       "HBox(children=(FloatProgress(value=0.0, description='Test', max=1.0, style=ProgressStyle(description_width='in…"
      ]
     },
     "metadata": {},
     "output_type": "display_data"
    },
    {
     "name": "stdout",
     "output_type": "stream",
     "text": [
      "\n",
      "\n",
      "Epoch     8\n",
      "Train_cost  = 0.1762 | Test_cost  = 0.8095 | Train_score = 0.9201 | Test_score = 0.7639 |\n",
      "\u001b[31m==> EarlyStop patience =  4 | Best test_score: 0.7639\u001b[0m\n"
     ]
    },
    {
     "data": {
      "application/vnd.jupyter.widget-view+json": {
       "model_id": "2e6322bacec14a5ca40311dac6629603",
       "version_major": 2,
       "version_minor": 0
      },
      "text/plain": [
       "HBox(children=(FloatProgress(value=0.0, description='Train', max=3.0, style=ProgressStyle(description_width='i…"
      ]
     },
     "metadata": {},
     "output_type": "display_data"
    },
    {
     "name": "stdout",
     "output_type": "stream",
     "text": [
      "\n"
     ]
    },
    {
     "data": {
      "application/vnd.jupyter.widget-view+json": {
       "model_id": "53509b8d338f4377ae412b5f6ccff469",
       "version_major": 2,
       "version_minor": 0
      },
      "text/plain": [
       "HBox(children=(FloatProgress(value=0.0, description='Test', max=1.0, style=ProgressStyle(description_width='in…"
      ]
     },
     "metadata": {},
     "output_type": "display_data"
    },
    {
     "name": "stdout",
     "output_type": "stream",
     "text": [
      "\n",
      "\n",
      "Epoch     9\n",
      "Train_cost  = 0.1395 | Test_cost  = 0.9128 | Train_score = 0.9271 | Test_score = 0.7361 |\n",
      "\u001b[31m==> EarlyStop patience =  5 | Best test_score: 0.7639\u001b[0m\n"
     ]
    },
    {
     "data": {
      "application/vnd.jupyter.widget-view+json": {
       "model_id": "1eead3ae0f9a46459a03b272e33bd1d2",
       "version_major": 2,
       "version_minor": 0
      },
      "text/plain": [
       "HBox(children=(FloatProgress(value=0.0, description='Train', max=3.0, style=ProgressStyle(description_width='i…"
      ]
     },
     "metadata": {},
     "output_type": "display_data"
    },
    {
     "name": "stdout",
     "output_type": "stream",
     "text": [
      "\n"
     ]
    },
    {
     "data": {
      "application/vnd.jupyter.widget-view+json": {
       "model_id": "f719efa585f84e30b4fc5283cd54fd84",
       "version_major": 2,
       "version_minor": 0
      },
      "text/plain": [
       "HBox(children=(FloatProgress(value=0.0, description='Test', max=1.0, style=ProgressStyle(description_width='in…"
      ]
     },
     "metadata": {},
     "output_type": "display_data"
    },
    {
     "name": "stdout",
     "output_type": "stream",
     "text": [
      "\n",
      "\n",
      "Epoch    10\n",
      "Train_cost  = 0.1264 | Test_cost  = 1.0768 | Train_score = 0.9375 | Test_score = 0.7222 |\n",
      "\u001b[31m==> EarlyStop patience =  6 | Best test_score: 0.7639\u001b[0m\n"
     ]
    },
    {
     "data": {
      "application/vnd.jupyter.widget-view+json": {
       "model_id": "4ab37a99de5f49328539073bf1eb94bd",
       "version_major": 2,
       "version_minor": 0
      },
      "text/plain": [
       "HBox(children=(FloatProgress(value=0.0, description='Train', max=3.0, style=ProgressStyle(description_width='i…"
      ]
     },
     "metadata": {},
     "output_type": "display_data"
    },
    {
     "name": "stdout",
     "output_type": "stream",
     "text": [
      "\n"
     ]
    },
    {
     "data": {
      "application/vnd.jupyter.widget-view+json": {
       "model_id": "3cda23ba24854766888447946d2a50d5",
       "version_major": 2,
       "version_minor": 0
      },
      "text/plain": [
       "HBox(children=(FloatProgress(value=0.0, description='Test', max=1.0, style=ProgressStyle(description_width='in…"
      ]
     },
     "metadata": {},
     "output_type": "display_data"
    },
    {
     "name": "stdout",
     "output_type": "stream",
     "text": [
      "\n",
      "\n",
      "Epoch    11\n",
      "Train_cost  = 0.1667 | Test_cost  = 1.1841 | Train_score = 0.9201 | Test_score = 0.7222 |\n",
      "\u001b[31m==> EarlyStop patience =  7 | Best test_score: 0.7639\u001b[0m\n"
     ]
    },
    {
     "data": {
      "application/vnd.jupyter.widget-view+json": {
       "model_id": "6243635de44b4dfa9c68fd878d070c11",
       "version_major": 2,
       "version_minor": 0
      },
      "text/plain": [
       "HBox(children=(FloatProgress(value=0.0, description='Train', max=3.0, style=ProgressStyle(description_width='i…"
      ]
     },
     "metadata": {},
     "output_type": "display_data"
    },
    {
     "name": "stdout",
     "output_type": "stream",
     "text": [
      "\n"
     ]
    },
    {
     "data": {
      "application/vnd.jupyter.widget-view+json": {
       "model_id": "e43851b1299a457f8f2b27a491918850",
       "version_major": 2,
       "version_minor": 0
      },
      "text/plain": [
       "HBox(children=(FloatProgress(value=0.0, description='Test', max=1.0, style=ProgressStyle(description_width='in…"
      ]
     },
     "metadata": {},
     "output_type": "display_data"
    },
    {
     "name": "stdout",
     "output_type": "stream",
     "text": [
      "\n",
      "\n",
      "Epoch    12\n",
      "Train_cost  = 0.1238 | Test_cost  = 1.2720 | Train_score = 0.9444 | Test_score = 0.6806 |\n",
      "\u001b[31m==> EarlyStop patience =  8 | Best test_score: 0.7639\u001b[0m\n"
     ]
    },
    {
     "data": {
      "application/vnd.jupyter.widget-view+json": {
       "model_id": "02de108b6b904f6da195d801987b1672",
       "version_major": 2,
       "version_minor": 0
      },
      "text/plain": [
       "HBox(children=(FloatProgress(value=0.0, description='Train', max=3.0, style=ProgressStyle(description_width='i…"
      ]
     },
     "metadata": {},
     "output_type": "display_data"
    },
    {
     "name": "stdout",
     "output_type": "stream",
     "text": [
      "\n"
     ]
    },
    {
     "data": {
      "application/vnd.jupyter.widget-view+json": {
       "model_id": "6d29a7e9db6843498ad7ea8fc22e6255",
       "version_major": 2,
       "version_minor": 0
      },
      "text/plain": [
       "HBox(children=(FloatProgress(value=0.0, description='Test', max=1.0, style=ProgressStyle(description_width='in…"
      ]
     },
     "metadata": {},
     "output_type": "display_data"
    },
    {
     "name": "stdout",
     "output_type": "stream",
     "text": [
      "\n",
      "\n",
      "Epoch    13\n",
      "Train_cost  = 0.1810 | Test_cost  = 1.2661 | Train_score = 0.9167 | Test_score = 0.6806 |\n",
      "\u001b[31m==> EarlyStop patience =  9 | Best test_score: 0.7639\u001b[0m\n"
     ]
    },
    {
     "data": {
      "application/vnd.jupyter.widget-view+json": {
       "model_id": "c573022257a64054bc888d3ad3afd27f",
       "version_major": 2,
       "version_minor": 0
      },
      "text/plain": [
       "HBox(children=(FloatProgress(value=0.0, description='Train', max=3.0, style=ProgressStyle(description_width='i…"
      ]
     },
     "metadata": {},
     "output_type": "display_data"
    },
    {
     "name": "stdout",
     "output_type": "stream",
     "text": [
      "\n"
     ]
    },
    {
     "data": {
      "application/vnd.jupyter.widget-view+json": {
       "model_id": "2db37035d6f848019e8d83981a69d04c",
       "version_major": 2,
       "version_minor": 0
      },
      "text/plain": [
       "HBox(children=(FloatProgress(value=0.0, description='Test', max=1.0, style=ProgressStyle(description_width='in…"
      ]
     },
     "metadata": {},
     "output_type": "display_data"
    },
    {
     "name": "stdout",
     "output_type": "stream",
     "text": [
      "\n",
      "\n",
      "Epoch    14\n",
      "Train_cost  = 0.1444 | Test_cost  = 1.2306 | Train_score = 0.9306 | Test_score = 0.7222 |\n",
      "\u001b[31m==> EarlyStop patience = 10 | Best test_score: 0.7639\u001b[0m\n",
      "\u001b[31m==> Execute Early Stopping at epoch: 14 | Best test_score: 0.7639\u001b[0m\n",
      "\u001b[31m==> Best model is saved at SentimenModel\u001b[0m\n"
     ]
    },
    {
     "data": {
      "image/png": "[encoded data removed]",
      "text/plain": [
       "<Figure size 576x360 with 1 Axes>"
      ]
     },
     "metadata": {
      "needs_background": "light"
     },
     "output_type": "display_data"
    },
    {
     "data": {
      "image/png": "[encoded data removed]",
      "text/plain": [
       "<Figure size 576x360 with 1 Axes>"
      ]
     },
     "metadata": {
      "needs_background": "light"
     },
     "output_type": "display_data"
    }
   ],
   "source": [
    "while True:\n",
    "    train_cost, train_score = loop_fn(\"train\", train_set, trainloader, model, criterion, optimizer, device)\n",
    "    with torch.no_grad():\n",
    "        test_cost, test_score = loop_fn(\"test\", test_set, testloader, model, criterion, optimizer, device)\n",
    "    \n",
    "    # Logging\n",
    "    callback.log(train_cost, test_cost, train_score, test_score)\n",
    "    \n",
    "    # Checkpoint\n",
    "    callback.save_checkpoint()\n",
    "    \n",
    "    # Runtime Plotting\n",
    "    callback.cost_runtime_plotting()\n",
    "    callback.score_runtime_plotting()\n",
    "    \n",
    "    # Early Stopping\n",
    "    if callback.early_stopping(model, monitor=\"test_score\"):\n",
    "        callback.plot_cost()\n",
    "        callback.plot_score()\n",
    "        break"
   ]
  },
  {
   "cell_type": "code",
   "execution_count": 771,
   "metadata": {},
   "outputs": [],
   "source": [
    "X_eval = df.text.values\n",
    "X_eval = preprocessor.transform(X_eval).toarray()\n",
    "X_eval = torch.FloatTensor(X_eval).to(device)\n",
    "with torch.no_grad():\n",
    "    model.eval()\n",
    "    output = model(X_eval)"
   ]
  },
  {
   "cell_type": "code",
   "execution_count": 772,
   "metadata": {},
   "outputs": [],
   "source": [
    "pred = output.argmax(1).numpy()\n",
    "vader=df['vaderAnalysis'].values\n",
    "manual=df['average'].values"
   ]
  },
  {
   "cell_type": "code",
   "execution_count": 773,
   "metadata": {},
   "outputs": [
    {
     "name": "stdout",
     "output_type": "stream",
     "text": [
      "ANN Accuracy: 0.8666666666666667\n",
      "Vader Accuracy: 0.8361111111111111\n"
     ]
    }
   ],
   "source": [
    "correctPred = 0\n",
    "correctVader = 0\n",
    "count = 0\n",
    "for i in range(len(pred)):\n",
    "    count += 1\n",
    "    if pred[i] == manual[i]:\n",
    "        correctPred += 1\n",
    "    if vader[i] == manual[i]:\n",
    "        correctVader += 1\n",
    "print('ANN Accuracy:',correctPred/count)\n",
    "print('Vader Accuracy:',correctVader/count)"
   ]
  },
  {
   "cell_type": "code",
   "execution_count": null,
   "metadata": {},
   "outputs": [],
   "source": []
  },
  {
   "cell_type": "code",
   "execution_count": null,
   "metadata": {},
   "outputs": [],
   "source": []
  },
  {
   "cell_type": "code",
   "execution_count": null,
   "metadata": {},
   "outputs": [],
   "source": []
  },
  {
   "cell_type": "code",
   "execution_count": null,
   "metadata": {},
   "outputs": [],
   "source": []
  },
  {
   "cell_type": "code",
   "execution_count": null,
   "metadata": {},
   "outputs": [],
   "source": []
  }
 ],
 "metadata": {
  "kernelspec": {
   "display_name": "Python 3",
   "language": "python",
   "name": "python3"
  },
  "language_info": {
   "codemirror_mode": {
    "name": "ipython",
    "version": 3
   },
   "file_extension": ".py",
   "mimetype": "text/x-python",
   "name": "python",
   "nbconvert_exporter": "python",
   "pygments_lexer": "ipython3",
   "version": "3.8.5"
  }
 },
 "nbformat": 4,
 "nbformat_minor": 4
}
